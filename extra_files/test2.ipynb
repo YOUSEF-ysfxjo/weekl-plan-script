{
 "cells": [
  {
   "cell_type": "code",
   "execution_count": 58,
   "id": "d355d8b7",
   "metadata": {},
   "outputs": [],
   "source": [
    "import csv\n",
    "import os\n",
    "from datetime import datetime"
   ]
  },
  {
   "cell_type": "code",
   "execution_count": 59,
   "id": "b8978659",
   "metadata": {},
   "outputs": [],
   "source": [
    "my_dict = {\"ID\": 1, \"Task\": \"Learning python\"}"
   ]
  },
  {
   "cell_type": "code",
   "execution_count": null,
   "id": "3c9efe42",
   "metadata": {},
   "outputs": [
    {
     "name": "stdout",
     "output_type": "stream",
     "text": [
      "Saving to: weekly-tasks-script\\phase2_test_2025-08-28T18-16-46.csv\n",
      "File saved successfully: weekly-tasks-script\\phase2_test_2025-08-28T18-16-46.csv\n"
     ]
    }
   ],
   "source": [
    "\n",
    "\n",
    "directory = \"weekly-tasks-script\"\n",
    "timestamp = datetime.now().strftime(\"%Y-%m-%dT%H-%M-%S\")  \n",
    "filename = os.path.join(directory, f\"phase2_test_{timestamp}.csv\")\n",
    "\n",
    "print(f\"Saving to: {filename}\")\n",
    "\n",
    "try:\n",
    "    os.makedirs(directory, exist_ok=True)\n",
    "except (PermissionError, OSError) as e:\n",
    "    print(f\"Error creating '{directory}': {e}\")\n",
    "    exit(1)\n",
    "\n",
    "try:\n",
    "    with open(filename, \"w\", encoding=\"utf-8\") as f:\n",
    "        writer = csv.DictWriter(f, fieldnames=my_dict.keys())\n",
    "        writer.writeheader()\n",
    "        writer.writerow(my_dict)\n",
    "    print(f\"File saved successfully: {filename}\")\n",
    "except (PermissionError, OSError) as e:\n",
    "    print(f\"Error writing file: {e}\")   "
   ]
  },
  {
   "cell_type": "code",
   "execution_count": 61,
   "id": "bc0f28dc",
   "metadata": {},
   "outputs": [],
   "source": [
    "import json"
   ]
  },
  {
   "cell_type": "code",
   "execution_count": null,
   "id": "fd8f3697",
   "metadata": {},
   "outputs": [],
   "source": [
    "try:\n",
    "    with open(\"sample.json\", \"r\", encoding=\"utf-8\") as f:\n",
    "        data = json.load(f)\n",
    "except FileNotFoundError as e:\n",
    "    print(e) "
   ]
  },
  {
   "cell_type": "code",
   "execution_count": 72,
   "id": "d67d86c2",
   "metadata": {},
   "outputs": [
    {
     "name": "stdout",
     "output_type": "stream",
     "text": [
      "tasks exists and are loaded\n"
     ]
    }
   ],
   "source": [
    "def tasks_exists(data: dict) -> bool:\n",
    "    return bool(data.get('tasks')) and isinstance(data['tasks'], list)\n",
    "\n",
    "if tasks_exists(data):\n",
    "    print(\"tasks exists and are loaded\")\n",
    "else:\n",
    "    print(\"no task exists\")"
   ]
  },
  {
   "cell_type": "code",
   "execution_count": 77,
   "id": "3cc2557b",
   "metadata": {},
   "outputs": [
    {
     "name": "stdout",
     "output_type": "stream",
     "text": [
      "{'id': 'task-a', 'task': 'Task A', 'status': 'Not Started', 'priority': 'Medium', 'effort': 2, 'outcomes': '', 'review': '', 'created_at': '2025-08-28T18:00:00+03:00', 'updated_at': '2025-08-28T18:00:00+03:00', 'done_at': None}\n",
      "{'id': 'task-b', 'task': 'Task B', 'status': 'In Progress', 'priority': 'High', 'effort': 3, 'outcomes': 'Making progress', 'review': '', 'created_at': '2025-08-28T18:01:00+03:00', 'updated_at': '2025-08-28T18:01:00+03:00', 'done_at': None}\n",
      "{'id': 'task-c', 'task': 'Task C', 'status': 'Done', 'priority': 'Low', 'effort': 5, 'outcomes': 'Completed successfully', 'review': 'All good', 'created_at': '2025-08-28T18:02:00+03:00', 'updated_at': '2025-08-28T18:02:00+03:00', 'done_at': '2025-08-28T18:02:00+03:00'}\n"
     ]
    }
   ],
   "source": [
    "# Get all task IDs as a list\n",
    "task_ids = [task[\"id\"] for task in data.get(\"tasks\", [])]\n",
    "\n",
    "for task in data[\"tasks\"]:\n",
    "    print(task)"
   ]
  },
  {
   "cell_type": "code",
   "execution_count": null,
   "id": "b8660d15",
   "metadata": {},
   "outputs": [
    {
     "name": "stdout",
     "output_type": "stream",
     "text": [
      "Saving to: data\\phase2_test_2025-08-28T18-26-12.csv\n",
      "File saved successfully: data\\phase2_test_2025-08-28T18-26-12.csv\n",
      "Total tasks exported: 3\n"
     ]
    }
   ],
   "source": [
    "import json\n",
    "import csv\n",
    "import os\n",
    "from datetime import datetime\n",
    "from zoneinfo import ZoneInfo\n",
    "\n",
    "TIMEZONE = ZoneInfo(\"Asia/Riyadh\")\n",
    "COLUMNS = [\n",
    "    \"ID\", \"Task\", \"Status\", \"Priority\", \"Effort\", \n",
    "    \"Outcomes\", \"Review\", \"Created At\", \"Updated At\", \"Done At\", \"External ID\"\n",
    "]\n",
    "\n",
    "def get_current_time() -> str:\n",
    "    return datetime.now(TIMEZONE).isoformat()\n",
    "\n",
    "def export_to_csv():\n",
    "    try:\n",
    "        with open('sample.json', 'r', encoding='utf-8') as f:\n",
    "            data = json.load(f)\n",
    "        \n",
    "        os.makedirs('data', exist_ok=True)\n",
    "        \n",
    "        rows = []\n",
    "        for task in data.get('tasks', []):\n",
    "            rows.append({\n",
    "                \"ID\": task.get(\"id\", \"\"),\n",
    "                \"Task\": task.get(\"task\", \"\"),\n",
    "                \"Status\": task.get(\"status\", \"\"),\n",
    "                \"Priority\": task.get(\"priority\", \"\"),\n",
    "                \"Effort\": task.get(\"effort\", 0),\n",
    "                \"Outcomes\": task.get(\"outcomes\", \"\"),  \n",
    "                \"Review\": task.get(\"review\", \"\"),\n",
    "                \"Created At\": task.get(\"created_at\", \"\"),\n",
    "                \"Updated At\": task.get(\"updated_at\", \"\"),\n",
    "                \"Done At\": task.get(\"done_at\", \"\"),\n",
    "                \"External ID\": task.get(\"id\", \"\")  \n",
    "            })\n",
    "        \n",
    "        with open('data/tasks.csv', 'w', newline='', encoding='utf-8') as f:\n",
    "            writer = csv.DictWriter(f, fieldnames=COLUMNS)\n",
    "            writer.writeheader()\n",
    "            writer.writerows(rows)\n",
    "        \n",
    "        print(f\"Total tasks exported: {len(rows)}\")\n",
    "        print(\"File saved successfully: data/tasks.csv\")\n",
    "        \n",
    "    except Exception as e:\n",
    "        print(f\"Error: {str(e)}\")\n",
    "\n",
    "if __name__ == \"__main__\":\n",
    "    export_to_csv()"
   ]
  }
 ],
 "metadata": {
  "kernelspec": {
   "display_name": "base",
   "language": "python",
   "name": "python3"
  },
  "language_info": {
   "codemirror_mode": {
    "name": "ipython",
    "version": 3
   },
   "file_extension": ".py",
   "mimetype": "text/x-python",
   "name": "python",
   "nbconvert_exporter": "python",
   "pygments_lexer": "ipython3",
   "version": "3.12.3"
  }
 },
 "nbformat": 4,
 "nbformat_minor": 5
}
